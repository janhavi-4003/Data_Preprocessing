{
 "cells": [
  {
   "cell_type": "code",
   "execution_count": 29,
   "id": "c7b06ad8-29af-42c6-a53a-80df58246ad7",
   "metadata": {},
   "outputs": [],
   "source": [
    "import pandas as pd"
   ]
  },
  {
   "cell_type": "code",
   "execution_count": 30,
   "id": "bce84174-5412-4dd3-a6eb-3fa16f83de6a",
   "metadata": {},
   "outputs": [],
   "source": [
    "#sample data\n",
    "data={\n",
    "    'CustomerId':['C001','C002','C003','C004','C005','C006','C007','C008'],\n",
    "    'Education_level':['High School','Bachleros','Masters','PHD','Bachleros','High School','PHD','Masters'],\n",
    "    'Product_Quality':['Low','Medium','High','Medium','Low','High','Medium','High'],\n",
    "    'Satisfication_level':['Poor','Average','Excellent','Good','Average','Good','Poor','Excellent']\n",
    "}\n",
    "df=pd.DataFrame(data)\n"
   ]
  },
  {
   "cell_type": "code",
   "execution_count": 31,
   "id": "8e732845-80c4-45e2-b258-7ca70fec4dfe",
   "metadata": {},
   "outputs": [
    {
     "data": {
      "text/html": [
       "<div>\n",
       "<style scoped>\n",
       "    .dataframe tbody tr th:only-of-type {\n",
       "        vertical-align: middle;\n",
       "    }\n",
       "\n",
       "    .dataframe tbody tr th {\n",
       "        vertical-align: top;\n",
       "    }\n",
       "\n",
       "    .dataframe thead th {\n",
       "        text-align: right;\n",
       "    }\n",
       "</style>\n",
       "<table border=\"1\" class=\"dataframe\">\n",
       "  <thead>\n",
       "    <tr style=\"text-align: right;\">\n",
       "      <th></th>\n",
       "      <th>CustomerId</th>\n",
       "      <th>Education_level</th>\n",
       "      <th>Product_Quality</th>\n",
       "      <th>Satisfication_level</th>\n",
       "    </tr>\n",
       "  </thead>\n",
       "  <tbody>\n",
       "    <tr>\n",
       "      <th>0</th>\n",
       "      <td>C001</td>\n",
       "      <td>High School</td>\n",
       "      <td>Low</td>\n",
       "      <td>Poor</td>\n",
       "    </tr>\n",
       "    <tr>\n",
       "      <th>1</th>\n",
       "      <td>C002</td>\n",
       "      <td>Bachleros</td>\n",
       "      <td>Medium</td>\n",
       "      <td>Average</td>\n",
       "    </tr>\n",
       "    <tr>\n",
       "      <th>2</th>\n",
       "      <td>C003</td>\n",
       "      <td>Masters</td>\n",
       "      <td>High</td>\n",
       "      <td>Excellent</td>\n",
       "    </tr>\n",
       "    <tr>\n",
       "      <th>3</th>\n",
       "      <td>C004</td>\n",
       "      <td>PHD</td>\n",
       "      <td>Medium</td>\n",
       "      <td>Good</td>\n",
       "    </tr>\n",
       "    <tr>\n",
       "      <th>4</th>\n",
       "      <td>C005</td>\n",
       "      <td>Bachleros</td>\n",
       "      <td>Low</td>\n",
       "      <td>Average</td>\n",
       "    </tr>\n",
       "    <tr>\n",
       "      <th>5</th>\n",
       "      <td>C006</td>\n",
       "      <td>High School</td>\n",
       "      <td>High</td>\n",
       "      <td>Good</td>\n",
       "    </tr>\n",
       "    <tr>\n",
       "      <th>6</th>\n",
       "      <td>C007</td>\n",
       "      <td>PHD</td>\n",
       "      <td>Medium</td>\n",
       "      <td>Poor</td>\n",
       "    </tr>\n",
       "    <tr>\n",
       "      <th>7</th>\n",
       "      <td>C008</td>\n",
       "      <td>Masters</td>\n",
       "      <td>High</td>\n",
       "      <td>Excellent</td>\n",
       "    </tr>\n",
       "  </tbody>\n",
       "</table>\n",
       "</div>"
      ],
      "text/plain": [
       "  CustomerId Education_level Product_Quality Satisfication_level\n",
       "0       C001     High School             Low                Poor\n",
       "1       C002       Bachleros          Medium             Average\n",
       "2       C003         Masters            High           Excellent\n",
       "3       C004             PHD          Medium                Good\n",
       "4       C005       Bachleros             Low             Average\n",
       "5       C006     High School            High                Good\n",
       "6       C007             PHD          Medium                Poor\n",
       "7       C008         Masters            High           Excellent"
      ]
     },
     "execution_count": 31,
     "metadata": {},
     "output_type": "execute_result"
    }
   ],
   "source": [
    "df"
   ]
  },
  {
   "cell_type": "code",
   "execution_count": 32,
   "id": "eac47470-7cb7-4c2b-a6b8-28709035448e",
   "metadata": {},
   "outputs": [],
   "source": [
    "# Define the order for each ordinal feature\n",
    "\n",
    "education_order=['High School','Bachleros','Masters','PHD']\n",
    "product_quality_order=['Low','Medium','High']\n",
    "satisfaction_order=['Poor','Average','Good','Excellent']"
   ]
  },
  {
   "cell_type": "code",
   "execution_count": 33,
   "id": "86853e15-adcf-43b8-b88b-e00413a1702b",
   "metadata": {},
   "outputs": [],
   "source": [
    "from sklearn.preprocessing import OrdinalEncoder"
   ]
  },
  {
   "cell_type": "code",
   "execution_count": 34,
   "id": "409fa086-38ed-4544-91b0-07d67c31b9c9",
   "metadata": {},
   "outputs": [],
   "source": [
    "encoder=OrdinalEncoder(categories=[education_order,product_quality_order,satisfaction_order])"
   ]
  },
  {
   "cell_type": "code",
   "execution_count": 35,
   "id": "e3e13716-e431-4fe7-997a-9a34e45286b3",
   "metadata": {},
   "outputs": [],
   "source": [
    "# Apply encoding ( skip cCustomerID as it is identifier)\n",
    "df[['Education_level', 'Product_Quality', 'Satisfication_level']]=encoder.fit_transform(df[['Education_level', 'Product_Quality', 'Satisfication_level']])"
   ]
  },
  {
   "cell_type": "code",
   "execution_count": 36,
   "id": "ee3d255f-b2a5-41a7-9700-55c2000e4657",
   "metadata": {},
   "outputs": [
    {
     "data": {
      "text/html": [
       "<div>\n",
       "<style scoped>\n",
       "    .dataframe tbody tr th:only-of-type {\n",
       "        vertical-align: middle;\n",
       "    }\n",
       "\n",
       "    .dataframe tbody tr th {\n",
       "        vertical-align: top;\n",
       "    }\n",
       "\n",
       "    .dataframe thead th {\n",
       "        text-align: right;\n",
       "    }\n",
       "</style>\n",
       "<table border=\"1\" class=\"dataframe\">\n",
       "  <thead>\n",
       "    <tr style=\"text-align: right;\">\n",
       "      <th></th>\n",
       "      <th>CustomerId</th>\n",
       "      <th>Education_level</th>\n",
       "      <th>Product_Quality</th>\n",
       "      <th>Satisfication_level</th>\n",
       "    </tr>\n",
       "  </thead>\n",
       "  <tbody>\n",
       "    <tr>\n",
       "      <th>0</th>\n",
       "      <td>C001</td>\n",
       "      <td>0.0</td>\n",
       "      <td>0.0</td>\n",
       "      <td>0.0</td>\n",
       "    </tr>\n",
       "    <tr>\n",
       "      <th>1</th>\n",
       "      <td>C002</td>\n",
       "      <td>1.0</td>\n",
       "      <td>1.0</td>\n",
       "      <td>1.0</td>\n",
       "    </tr>\n",
       "    <tr>\n",
       "      <th>2</th>\n",
       "      <td>C003</td>\n",
       "      <td>2.0</td>\n",
       "      <td>2.0</td>\n",
       "      <td>3.0</td>\n",
       "    </tr>\n",
       "    <tr>\n",
       "      <th>3</th>\n",
       "      <td>C004</td>\n",
       "      <td>3.0</td>\n",
       "      <td>1.0</td>\n",
       "      <td>2.0</td>\n",
       "    </tr>\n",
       "    <tr>\n",
       "      <th>4</th>\n",
       "      <td>C005</td>\n",
       "      <td>1.0</td>\n",
       "      <td>0.0</td>\n",
       "      <td>1.0</td>\n",
       "    </tr>\n",
       "    <tr>\n",
       "      <th>5</th>\n",
       "      <td>C006</td>\n",
       "      <td>0.0</td>\n",
       "      <td>2.0</td>\n",
       "      <td>2.0</td>\n",
       "    </tr>\n",
       "    <tr>\n",
       "      <th>6</th>\n",
       "      <td>C007</td>\n",
       "      <td>3.0</td>\n",
       "      <td>1.0</td>\n",
       "      <td>0.0</td>\n",
       "    </tr>\n",
       "    <tr>\n",
       "      <th>7</th>\n",
       "      <td>C008</td>\n",
       "      <td>2.0</td>\n",
       "      <td>2.0</td>\n",
       "      <td>3.0</td>\n",
       "    </tr>\n",
       "  </tbody>\n",
       "</table>\n",
       "</div>"
      ],
      "text/plain": [
       "  CustomerId  Education_level  Product_Quality  Satisfication_level\n",
       "0       C001              0.0              0.0                  0.0\n",
       "1       C002              1.0              1.0                  1.0\n",
       "2       C003              2.0              2.0                  3.0\n",
       "3       C004              3.0              1.0                  2.0\n",
       "4       C005              1.0              0.0                  1.0\n",
       "5       C006              0.0              2.0                  2.0\n",
       "6       C007              3.0              1.0                  0.0\n",
       "7       C008              2.0              2.0                  3.0"
      ]
     },
     "execution_count": 36,
     "metadata": {},
     "output_type": "execute_result"
    }
   ],
   "source": [
    "df"
   ]
  },
  {
   "cell_type": "code",
   "execution_count": null,
   "id": "88ec0526-ff56-448c-b6b3-2bedf5e622e9",
   "metadata": {},
   "outputs": [],
   "source": []
  }
 ],
 "metadata": {
  "kernelspec": {
   "display_name": "Python 3 (ipykernel)",
   "language": "python",
   "name": "python3"
  },
  "language_info": {
   "codemirror_mode": {
    "name": "ipython",
    "version": 3
   },
   "file_extension": ".py",
   "mimetype": "text/x-python",
   "name": "python",
   "nbconvert_exporter": "python",
   "pygments_lexer": "ipython3",
   "version": "3.12.7"
  }
 },
 "nbformat": 4,
 "nbformat_minor": 5
}
